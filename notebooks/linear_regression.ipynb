{
 "cells": [
  {
   "attachments": {},
   "cell_type": "markdown",
   "metadata": {},
   "source": [
    "## Imports"
   ]
  },
  {
   "cell_type": "code",
   "execution_count": 1,
   "metadata": {},
   "outputs": [],
   "source": [
    "import pandas as pd\n",
    "import numpy as np\n",
    "from typing import Tuple\n",
    "import matplotlib.pyplot as plt\n",
    "\n",
    "from scipy.optimize import minimize"
   ]
  },
  {
   "attachments": {},
   "cell_type": "markdown",
   "metadata": {},
   "source": [
    "## Sum of squares"
   ]
  },
  {
   "cell_type": "code",
   "execution_count": 2,
   "metadata": {},
   "outputs": [],
   "source": [
    "def sum_of_squares_error(y: pd.Series,w: np.array, ph: pd.DataFrame, regularized: bool = True, lamb: float = 0.1) -> float:\n",
    "    \"\"\"Calculates the sum of squares error function\n",
    "\n",
    "    Parameters\n",
    "    ----------\n",
    "    y : pd.Series\n",
    "        target variable\n",
    "    w : np.array\n",
    "        current weights\n",
    "    ph : pd.DataFrame\n",
    "        phi function evaluated for every entry of X\n",
    "    regularized : bool, optional\n",
    "        Includes weight decay regularization to avoid overfitting, by default True\n",
    "    lamb : float, optional\n",
    "        Regularization parameter, by default 0.1\n",
    "        \n",
    "    Returns\n",
    "    -------\n",
    "    float\n",
    "        Sum of squared error\n",
    "    \"\"\"\n",
    "    res = 0\n",
    "    wt = np.array([w])\n",
    "    ph_np = ph.to_numpy()\n",
    "    for i,val in y.items():\n",
    "        ph_i = ph_np[i].reshape(-1,1)\n",
    "        res = res + (0.5*(val - np.matmul(wt,ph_i))**2)[0][0]\n",
    "        if regularized:\n",
    "            res = res + (0.5*lamb*np.matmul(wt,w))[0] \n",
    "    return res"
   ]
  },
  {
   "cell_type": "code",
   "execution_count": 3,
   "metadata": {},
   "outputs": [],
   "source": [
    "def sose_for_min(w :np.array,*args: Tuple[pd.Series, pd.DataFrame, bool, float]) -> float:\n",
    "    \"\"\"Calls the funcion sum_of_squares_error in the format apropriate for minimization with scipy\n",
    "\n",
    "    Parameters\n",
    "    ----------\n",
    "    w : np.array\n",
    "        Initial weigths\n",
    "    *args: Tuple[pd.Series, pd.DataFrame, bool, float]\n",
    "        pd.Series: target data\n",
    "        pd.DataFrame: phi functions evaluated at X\n",
    "        bool: Include weight decay regularization. Default \n",
    "        float: value of we\n",
    "        \n",
    "    Returns\n",
    "    -------\n",
    "    float\n",
    "        Sum of squares error\n",
    "    \"\"\"\n",
    "    y = args[0]\n",
    "    ph = args[1]\n",
    "    if len(args) > 2:\n",
    "        regularized = args[2]\n",
    "    else:\n",
    "        regularized = True\n",
    "    \n",
    "    if len(args) > 3:\n",
    "        lamb = args[3]\n",
    "    else:\n",
    "        lamb = 0.1\n",
    "    return sum_of_squares_error(y, w, ph, regularized=regularized, lamb=lamb)"
   ]
  },
  {
   "attachments": {},
   "cell_type": "markdown",
   "metadata": {},
   "source": [
    "## Min max scaling"
   ]
  },
  {
   "cell_type": "code",
   "execution_count": 4,
   "metadata": {},
   "outputs": [],
   "source": [
    "def min_max_scaling(ds: pd.Series) -> Tuple[pd.Series, Tuple[float,float]]:\n",
    "    \"\"\"Linearly scales a pandas series from min -> max to 0 -> 1\n",
    "\n",
    "    Parameters\n",
    "    ----------\n",
    "    ds : pd.Series\n",
    "        Series to scale\n",
    "\n",
    "    Returns\n",
    "    -------\n",
    "    Tuple[pd.Series, Tuple[float,float]]\n",
    "        pd.Series: Scaled Series\n",
    "        Tuple[float,float]\n",
    "            float: Minimum of the original series\n",
    "            float: Maximum of the original series\n",
    "    \"\"\"\n",
    "    mx = np.nanmax(ds)\n",
    "    mn = np.nanmin(ds)\n",
    "    delta = mx - mn\n",
    "    ds_out = (ds - mn)/delta\n",
    "    return ds_out, (mn,mx)"
   ]
  },
  {
   "attachments": {},
   "cell_type": "markdown",
   "metadata": {},
   "source": [
    "## Metrics"
   ]
  },
  {
   "cell_type": "code",
   "execution_count": 5,
   "metadata": {},
   "outputs": [],
   "source": [
    "def r_squared(y_orig: np.array, y_pred: np.array):\n",
    "    \"\"\"Calculates the R squared of a target and predicted arrays\n",
    "\n",
    "    Parameters\n",
    "    ----------\n",
    "    y_orig : np.array\n",
    "        Target array\n",
    "    y_pred : np.array\n",
    "        Predicted array\n",
    "\n",
    "    Returns\n",
    "    -------\n",
    "    _type_\n",
    "        R squared\n",
    "    \"\"\"\n",
    "    ssreg = np.nansum(np.power(y_orig - y_pred,2))\n",
    "    sstot = np.nansum(np.power(y_orig - np.nanmean(y_pred),2))\n",
    "    Rsqrd = 1 - ssreg/sstot\n",
    "    return Rsqrd"
   ]
  },
  {
   "attachments": {},
   "cell_type": "markdown",
   "metadata": {},
   "source": [
    "## Linear regression"
   ]
  },
  {
   "cell_type": "code",
   "execution_count": 6,
   "metadata": {},
   "outputs": [],
   "source": [
    "class LinearRegression:\n",
    "    def __init__(self) -> None:\n",
    "        self.w = None\n",
    "        self.ph = None\n",
    "\n",
    "    def fit(self, X: pd.DataFrame, y: pd.Series, bias: float = 0, basis_function: str  = 'lineal', w: np.array = None,\n",
    "            regularized: bool = True, lamb: float = 0.1):\n",
    "        \"\"\"fit X data towards y target using Linear regression\n",
    "\n",
    "        Parameters\n",
    "        ----------\n",
    "        X : pd.DataFrame\n",
    "            Independent data\n",
    "        y : pd.Series\n",
    "            Target data\n",
    "        bias : float, optional\n",
    "            Constant vertical shift, by default 0\n",
    "        basis_function : str, optional\n",
    "            Basis functions Phi of the linear regressor, by default 'lineal'\n",
    "                'lineal': Phi = X, other values: Phi = 1\n",
    "        w : np.array, optional\n",
    "            Initial guess of the weights, by default all ones\n",
    "        regularized : bool, optional\n",
    "            Includes weight decay regularization to avoid overfitting, by default True\n",
    "        lamb : float, optional\n",
    "            Regularization parameter, by default 0.1                       \n",
    "        \"\"\"\n",
    "        if w is None:\n",
    "            w = np.ones(X.shape[1])\n",
    "        if basis_function == 'lineal':\n",
    "            self.ph = X\n",
    "        else:\n",
    "            self.ph = pd.DataFrame(np.ones(X.shape), columns=X.columns)\n",
    "\n",
    "        res = minimize(sose_for_min, w, args=(y, self.ph, regularized, lamb))\n",
    "        self.w = res.x\n",
    "\n",
    "    def predict(self, X: pd.DataFrame):\n",
    "        y_trained = self.ph.apply(lambda x: np.nansum(x.to_numpy()*self.w),axis = 1)\n",
    "        return y_trained"
   ]
  },
  {
   "cell_type": "code",
   "execution_count": 7,
   "metadata": {},
   "outputs": [
    {
     "name": "stderr",
     "output_type": "stream",
     "text": [
      "C:\\Users\\an2fe\\AppData\\Local\\Temp\\ipykernel_22020\\1746569770.py:7: SettingWithCopyWarning: \n",
      "A value is trying to be set on a copy of a slice from a DataFrame.\n",
      "Try using .loc[row_indexer,col_indexer] = value instead\n",
      "\n",
      "See the caveats in the documentation: https://pandas.pydata.org/pandas-docs/stable/user_guide/indexing.html#returning-a-view-versus-a-copy\n",
      "  X[c] = min_max_scaling(X[c])[0]\n"
     ]
    }
   ],
   "source": [
    "df = pd.read_csv('../data/1.raw/electricityConsumptionAndProductioction.csv', parse_dates=['DateTime'])\n",
    "X_cols = ['Nuclear', 'Wind', 'Hydroelectric', 'Oil and Gas', 'Coal', 'Solar', 'Biomass']\n",
    "y_col = 'Production'\n",
    "\n",
    "X = df[X_cols]\n",
    "for c in X.columns:\n",
    "    X[c] = min_max_scaling(X[c])[0]\n",
    "\n",
    "y = df[y_col]\n",
    "y = min_max_scaling(y)[0]"
   ]
  },
  {
   "cell_type": "code",
   "execution_count": 8,
   "metadata": {},
   "outputs": [],
   "source": [
    "lg = LinearRegression()\n",
    "lg.fit(X,y)"
   ]
  },
  {
   "cell_type": "code",
   "execution_count": 9,
   "metadata": {},
   "outputs": [
    {
     "data": {
      "text/plain": [
       "0.1453129315145546"
      ]
     },
     "execution_count": 9,
     "metadata": {},
     "output_type": "execute_result"
    }
   ],
   "source": [
    "y_predict = lg.predict(X)\n",
    "r_squared(y,y_predict)"
   ]
  },
  {
   "cell_type": "code",
   "execution_count": 11,
   "metadata": {},
   "outputs": [
    {
     "data": {
      "image/png": "[encoded data removed]",
      "text/plain": [
       "<Figure size 640x480 with 1 Axes>"
      ]
     },
     "metadata": {},
     "output_type": "display_data"
    }
   ],
   "source": [
    "plt.plot(y)\n",
    "plt.plot(y_predict)\n",
    "plt.show()"
   ]
  },
  {
   "cell_type": "code",
   "execution_count": null,
   "metadata": {},
   "outputs": [],
   "source": []
  }
 ],
 "metadata": {
  "kernelspec": {
   "display_name": "pbi",
   "language": "python",
   "name": "python3"
  },
  "language_info": {
   "codemirror_mode": {
    "name": "ipython",
    "version": 3
   },
   "file_extension": ".py",
   "mimetype": "text/x-python",
   "name": "python",
   "nbconvert_exporter": "python",
   "pygments_lexer": "ipython3",
   "version": "3.10.9"
  },
  "orig_nbformat": 4
 },
 "nbformat": 4,
 "nbformat_minor": 2
}
