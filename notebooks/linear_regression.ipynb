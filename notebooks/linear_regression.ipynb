{
 "cells": [
  {
   "attachments": {},
   "cell_type": "markdown",
   "metadata": {},
   "source": [
    "## Imports"
   ]
  },
  {
   "cell_type": "code",
   "execution_count": 1,
   "metadata": {},
   "outputs": [],
   "source": [
    "import pandas as pd\n",
    "import numpy as np\n",
    "from typing import Tuple"
   ]
  },
  {
   "attachments": {},
   "cell_type": "markdown",
   "metadata": {},
   "source": [
    "## Sum of squares"
   ]
  },
  {
   "cell_type": "code",
   "execution_count": 11,
   "metadata": {},
   "outputs": [],
   "source": [
    "def sum_of_squares(y: pd.Series,w: np.array, ph: pd.DataFrame) -> float:\n",
    "    \"\"\"Calculates the sum of squares error function\n",
    "\n",
    "    Parameters\n",
    "    ----------\n",
    "    y : pd.Series\n",
    "        target variable\n",
    "    w : np.array\n",
    "        current weights\n",
    "    ph : pd.DataFrame\n",
    "        phi function evaluated for every entry of X\n",
    "\n",
    "    Returns\n",
    "    -------\n",
    "    float\n",
    "        _description_\n",
    "    \"\"\"\n",
    "    res = 0\n",
    "    wt = np.array([w])\n",
    "    ph_np = ph.to_numpy()\n",
    "    for i,val in y.items():\n",
    "        ph_i = ph_np[i].reshape(-1,1)\n",
    "        res = res + 0.5*(val - np.matmul(wt,ph_i))**2\n",
    "    return res[0][0]"
   ]
  },
  {
   "attachments": {},
   "cell_type": "markdown",
   "metadata": {},
   "source": [
    "## Min max scaling"
   ]
  },
  {
   "cell_type": "code",
   "execution_count": 3,
   "metadata": {},
   "outputs": [],
   "source": [
    "def min_max_scaling(ds: pd.Series) -> Tuple[pd.Series, Tuple[float,float]]:\n",
    "    \"\"\"Linearly scales a pandas series from min -> max to 0 -> 1\n",
    "\n",
    "    Parameters\n",
    "    ----------\n",
    "    ds : pd.Series\n",
    "        Series to scale\n",
    "\n",
    "    Returns\n",
    "    -------\n",
    "    Tuple[pd.Series, Tuple[float,float]]\n",
    "        pd.Series: Scaled Series\n",
    "        Tuple[float,float]\n",
    "            float: Minimum of the original series\n",
    "            float: Maximum of the original series\n",
    "    \"\"\"\n",
    "    mx = np.nanmax(ds)\n",
    "    mn = np.nanmin(ds)\n",
    "    delta = mx - mn\n",
    "    ds_out = (ds - mn)/delta\n",
    "    return ds_out, (mn,mx)"
   ]
  },
  {
   "cell_type": "code",
   "execution_count": 4,
   "metadata": {},
   "outputs": [
    {
     "name": "stderr",
     "output_type": "stream",
     "text": [
      "C:\\Users\\an2fe\\AppData\\Local\\Temp\\ipykernel_12488\\1746569770.py:7: SettingWithCopyWarning: \n",
      "A value is trying to be set on a copy of a slice from a DataFrame.\n",
      "Try using .loc[row_indexer,col_indexer] = value instead\n",
      "\n",
      "See the caveats in the documentation: https://pandas.pydata.org/pandas-docs/stable/user_guide/indexing.html#returning-a-view-versus-a-copy\n",
      "  X[c] = min_max_scaling(X[c])[0]\n"
     ]
    }
   ],
   "source": [
    "df = pd.read_csv('../data/1.raw/electricityConsumptionAndProductioction.csv', parse_dates=['DateTime'])\n",
    "X_cols = ['Nuclear', 'Wind', 'Hydroelectric', 'Oil and Gas', 'Coal', 'Solar', 'Biomass']\n",
    "y_col = 'Production'\n",
    "\n",
    "X = df[X_cols]\n",
    "for c in X.columns:\n",
    "    X[c] = min_max_scaling(X[c])[0]\n",
    "\n",
    "y = df[y_col]\n",
    "y = min_max_scaling(y)[0]"
   ]
  },
  {
   "cell_type": "code",
   "execution_count": 12,
   "metadata": {},
   "outputs": [
    {
     "data": {
      "text/plain": [
       "136091.66694520967"
      ]
     },
     "execution_count": 12,
     "metadata": {},
     "output_type": "execute_result"
    }
   ],
   "source": [
    "bias = 0\n",
    "bf = 'lineal'\n",
    "w = np.ones(X.shape[1])\n",
    "eta = 1.15e-7\n",
    "ph = X\n",
    "\n",
    "sum_of_squares(y,w,ph)"
   ]
  }
 ],
 "metadata": {
  "kernelspec": {
   "display_name": "pbi",
   "language": "python",
   "name": "python3"
  },
  "language_info": {
   "codemirror_mode": {
    "name": "ipython",
    "version": 3
   },
   "file_extension": ".py",
   "mimetype": "text/x-python",
   "name": "python",
   "nbconvert_exporter": "python",
   "pygments_lexer": "ipython3",
   "version": "3.10.9"
  },
  "orig_nbformat": 4
 },
 "nbformat": 4,
 "nbformat_minor": 2
}
