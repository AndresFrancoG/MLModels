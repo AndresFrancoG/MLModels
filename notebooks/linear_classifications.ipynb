{
 "cells": [
  {
   "cell_type": "code",
   "execution_count": 1,
   "metadata": {},
   "outputs": [],
   "source": [
    "import pandas as pd\n",
    "import numpy as np\n",
    "from typing import Tuple\n",
    "import matplotlib.pyplot as plt\n",
    "\n",
    "from scipy.optimize import minimize\n",
    "\n",
    "import sys\n",
    "sys.path.insert(0, '../scripts/')\n",
    "import utils as utl\n",
    "from logistic_regression import LogisticRegression"
   ]
  },
  {
   "attachments": {},
   "cell_type": "markdown",
   "metadata": {},
   "source": [
    "## Predict"
   ]
  },
  {
   "cell_type": "code",
   "execution_count": 2,
   "metadata": {},
   "outputs": [],
   "source": [
    "# def log_reg_predict(w, X):\n",
    "#     return (w*X).sum(axis=1)"
   ]
  },
  {
   "attachments": {},
   "cell_type": "markdown",
   "metadata": {},
   "source": [
    "## Metrics"
   ]
  },
  {
   "cell_type": "code",
   "execution_count": 3,
   "metadata": {},
   "outputs": [],
   "source": [
    "# def confusion_matrix(y: pd.Series, y_p: pd.Series) -> np.array:\n",
    "#     \"\"\"Calculates the confusion matrix of a classification model\n",
    "\n",
    "#     Parameters\n",
    "#     ----------\n",
    "#     y : pd.Series\n",
    "#         True values\n",
    "#     y_p : pd.Series\n",
    "#         Predicted values\n",
    "\n",
    "#     Returns\n",
    "#     -------\n",
    "#     np.array\n",
    "#         Confusion Matrix\n",
    "#     \"\"\"\n",
    "#     cats = y.unique()\n",
    "#     n= len(cats)\n",
    "#     conf_matr = np.zeros((n,n))\n",
    "\n",
    "#     for i in range(len(y)):\n",
    "#         k = np.where(cats == y.iloc[i])[0][0]\n",
    "#         l = np.where(cats == y_p.iloc[i])[0][0]\n",
    "#         conf_matr[k][l] = conf_matr[k][l] + 1\n",
    "#     return conf_matr"
   ]
  },
  {
   "cell_type": "code",
   "execution_count": 4,
   "metadata": {},
   "outputs": [],
   "source": [
    "# def accuracy_classification(cm: np.array) -> float:\n",
    "#     \"\"\"Correct predictions vs total number of data points\n",
    "\n",
    "#     Parameters\n",
    "#     ----------\n",
    "#     cm : np.array\n",
    "#         Confusion Matrix\n",
    "\n",
    "#     Returns\n",
    "#     -------\n",
    "#     float\n",
    "#         Accuracy\n",
    "#     \"\"\"\n",
    "#     return cm.trace()/cm.sum()\n",
    "\n",
    "# def presicion_classification(cm: np.array, i: int = 0) -> float:    \n",
    "#     \"\"\"True Positives of a given category vs total number of data points\n",
    "\n",
    "#     Parameters\n",
    "#     ----------\n",
    "#     cm : np.array\n",
    "#         Multiclass confusion matrix\n",
    "#     i : int, optional\n",
    "#         Index of category of interests, by default 0\n",
    "\n",
    "#     Returns\n",
    "#     -------\n",
    "#     float\n",
    "#         _description_\n",
    "#     \"\"\"\n",
    "#     return cm[i][i]/cm[i].sum()\n",
    "\n",
    "# def recall_classification(cm: np.array, i: int = 0) -> float:    \n",
    "#     \"\"\"True Positives of a given category vs total number of data points\n",
    "\n",
    "#     Parameters\n",
    "#     ----------\n",
    "#     cm : np.array\n",
    "#         Multiclass confusion matrix\n",
    "#     i : int, optional\n",
    "#         Index of category of interests, by default 0\n",
    "\n",
    "#     Returns\n",
    "#     -------\n",
    "#     float\n",
    "#         _description_\n",
    "#     \"\"\"\n",
    "#     return cm[i][i]/cm[:,i].sum()"
   ]
  },
  {
   "cell_type": "code",
   "execution_count": 5,
   "metadata": {},
   "outputs": [],
   "source": [
    "# def fbeta_classification(cm: np.array, i: int = 0, beta: float = 1.0) -> float:\n",
    "#     p = presicion_classification(cm, i=i)\n",
    "#     r = recall_classification(cm, i=i)\n",
    "#     fb = 0\n",
    "#     den = ((beta**2)*p+r)\n",
    "#     if den !=0:\n",
    "#         fb = (1+beta**2)*p*r/((beta**2)*p+r)\n",
    "#     return fb"
   ]
  },
  {
   "attachments": {},
   "cell_type": "markdown",
   "metadata": {},
   "source": [
    "# Cost functions"
   ]
  },
  {
   "cell_type": "code",
   "execution_count": 6,
   "metadata": {},
   "outputs": [],
   "source": [
    "# def log_cost_function(w: np.array, X: np.array, y: np.array) -> float:\n",
    "#     \"\"\"Calculates the log cost function for binary logistic regression\n",
    "\n",
    "#     Parameters\n",
    "#     ----------\n",
    "#     w : np.array\n",
    "#         Weights\n",
    "#     X : np.array\n",
    "#         Input values\n",
    "#     y : np.array\n",
    "#         Expected outputs\n",
    "\n",
    "#     Returns\n",
    "#     -------\n",
    "#     float\n",
    "#         Logistic cost function result\n",
    "#     \"\"\"\n",
    "#     y_pred = log_reg_predict(w, X)\n",
    "#     y_pred = utl.min_max_scaling(pd.Series(y_pred))[0]\n",
    "#     den = 1 + np.exp(y_pred)\n",
    "#     den[den == 0] = 1e-4\n",
    "#     h = 1/den\n",
    "#     return - (1/len(X))*np.sum(y*np.log(h) + (1-y)*np.log(1-h))"
   ]
  },
  {
   "cell_type": "code",
   "execution_count": 7,
   "metadata": {},
   "outputs": [],
   "source": [
    "# def lcf_for_min(w: np.array, *args: Tuple[np.array, np.array]) -> float:\n",
    "#     \"\"\"Calculates the log cost function for binary logistic regression in format necessary for minimization algorithm\n",
    "\n",
    "#     Parameters\n",
    "#     ----------\n",
    "#     w : np.array\n",
    "#         _description_\n",
    "\n",
    "#     **args: Tuple[np.array, np.array]\n",
    "#         np.array: Input values X\n",
    "#         np.array: Expected outputs y\n",
    "#     Returns\n",
    "#     -------\n",
    "#     float\n",
    "#         Logistic cost function result\n",
    "#     \"\"\"\n",
    "#     X = args[0]\n",
    "#     y = args[1]\n",
    "#     return log_cost_function(w, X, y)"
   ]
  },
  {
   "attachments": {},
   "cell_type": "markdown",
   "metadata": {},
   "source": [
    "## Class"
   ]
  },
  {
   "cell_type": "code",
   "execution_count": 8,
   "metadata": {},
   "outputs": [],
   "source": [
    "# class LogisticRegression:\n",
    "#     def __init__(self) -> None:\n",
    "#         self.w = None\n",
    "#         self.y_res = None\n",
    "\n",
    "#     def fit(self, X: pd.DataFrame, y: pd.Series, bias: float = 0, w: np.array = None):\n",
    "#         \"\"\"fit X data towards y target using multiclass logistic regression\n",
    "\n",
    "#         Parameters\n",
    "#         ----------\n",
    "#         X : pd.DataFrame\n",
    "#             Independent data\n",
    "#         y : pd.Series\n",
    "#             Target data\n",
    "#         bias : float, optional\n",
    "#             Constant vertical shift, by default 0\n",
    "#         w : np.array, optional\n",
    "#             Initial guess of the weights, by default all ones                     \n",
    "#         \"\"\"              \n",
    "#         if w is None:\n",
    "#             w = np.ones(X.shape[1]+1)\n",
    "\n",
    "#         y_res = pd.DataFrame()\n",
    "#         for cat in y.unique():\n",
    "#             y_np = y.copy().to_numpy()\n",
    "#             y_np[y_np!=cat]=-1\n",
    "#             y_np[y_np==cat]=1\n",
    "#             y_np[y_np==-1]=0\n",
    "#             y_res[cat] = y_np\n",
    "\n",
    "#         X_mod = LogisticRegression.add_bias_column(X)\n",
    "#         X_np = X_mod.to_numpy()\n",
    "\n",
    "#         # Inicializes data\n",
    "#         J = np.ones(len(y_res.columns))\n",
    "#         w_df = pd.DataFrame()\n",
    "#         for i,val in enumerate(y_res.columns):\n",
    "#             w_df[val] = 0.1*np.ones(X.shape[1]+1)\n",
    "#         w = w_df.to_numpy()\n",
    "#         y_c = y_res.to_numpy()\n",
    "\n",
    "#         # Minimizes the cost function\n",
    "#         for i,val in enumerate(y_res.columns):\n",
    "#             res = minimize(lcf_for_min, w[:,i], args=(X_np, y_c[:,i]))\n",
    "#             w[:,i] = res.x        \n",
    "#         self.w = w\n",
    "#         self.y_res = y_res\n",
    "\n",
    "#     def predict(self, X: np.array) -> np.array:\n",
    "#         \"\"\"Predicts resulting categories based on input data X\n",
    "\n",
    "#         Parameters\n",
    "#         ----------\n",
    "#         X : np.array\n",
    "#             Input data\n",
    "\n",
    "#         Returns\n",
    "#         -------\n",
    "#         np.array\n",
    "#             Predicted categories\n",
    "#         \"\"\"\n",
    "#         X_mod = LogisticRegression.add_bias_column(X)\n",
    "#         X_np = X_mod.to_numpy()\n",
    "\n",
    "#         # Predictions\n",
    "#         y_pred = pd.DataFrame()\n",
    "\n",
    "#         for i,val in enumerate(self.y_res.columns):\n",
    "#             y_pred[val] = self.log_reg_predict(X_np, i)\n",
    "#             y_pred[val] = utl.min_max_scaling(y_pred[val])[0]\n",
    "\n",
    "#         orig_cols = y_pred.columns\n",
    "#         y_pred['res'] = y_pred.apply(lambda x: np.argmax(x[orig_cols].to_numpy()) ,axis =1)\n",
    "#         return y_pred['res']\n",
    "\n",
    "#     def log_reg_predict(self, X: np.array, i: int) -> np.array:\n",
    "#         \"\"\"Single class prediction using a linear combination of input X and the weights w\n",
    "\n",
    "#         Parameters\n",
    "#         ----------\n",
    "#         X : np.array\n",
    "#             Input data with bias column of ones\n",
    "#         i : int\n",
    "#             Index of class of interests\n",
    "\n",
    "#         Returns\n",
    "#         -------\n",
    "#         np.array\n",
    "#             resulting predictions\n",
    "#         \"\"\"\n",
    "#         return (self.w[:,i]*X).sum(axis=1)\n",
    "\n",
    "#     @staticmethod\n",
    "#     def add_bias_column(X: pd.DataFrame) -> pd.DataFrame:\n",
    "#         \"\"\"Adds the column 'bias_col' of ones for the bias calculation\n",
    "\n",
    "#         Parameters\n",
    "#         ----------\n",
    "#         X : pd.DataFrame\n",
    "#             Input data\n",
    "\n",
    "#         Returns\n",
    "#         -------\n",
    "#         pd.DataFrame\n",
    "#             Input data plus bias column\n",
    "#         \"\"\"\n",
    "#         X_mod = X.copy()\n",
    "#         ones_aux = np.ones(X.shape[0])\n",
    "#         X_mod['bias_col'] = ones_aux\n",
    "#         cols = X_mod.columns\n",
    "#         cols_reordered = [cols[i-1] for i,x in enumerate(cols)]\n",
    "#         X_mod = X_mod[cols_reordered]\n",
    "#         return X_mod\n",
    "\n",
    "#     @staticmethod\n",
    "#     def log_cost_function(w: np.array, X: np.array, y: np.array) -> float:\n",
    "#         \"\"\"Calculates the log cost function for binary logistic regression\n",
    "\n",
    "#         Parameters\n",
    "#         ----------\n",
    "#         w : np.array\n",
    "#             Weights\n",
    "#         X : np.array\n",
    "#             Input values\n",
    "#         y : np.array\n",
    "#             Expected outputs\n",
    "\n",
    "#         Returns\n",
    "#         -------\n",
    "#         float\n",
    "#             Logistic cost function result\n",
    "#         \"\"\"\n",
    "#         y_pred = log_reg_predict(w, X)\n",
    "#         y_pred = utl.min_max_scaling(pd.Series(y_pred))[0]\n",
    "#         den = 1 + np.exp(y_pred)\n",
    "#         den[den == 0] = 1e-4\n",
    "#         h = 1/den\n",
    "#         return - (1/len(X))*np.sum(y*np.log(h) + (1-y)*np.log(1-h))\n",
    "\n",
    "#     @staticmethod\n",
    "#     def lcf_for_min(w: np.array, *args: Tuple[np.array, np.array]) -> float:\n",
    "#         \"\"\"Calculates the log cost function for binary logistic regression in format necessary for minimization algorithm\n",
    "\n",
    "#         Parameters\n",
    "#         ----------\n",
    "#         w : np.array\n",
    "#             _description_\n",
    "\n",
    "#         **args: Tuple[np.array, np.array]\n",
    "#             np.array: Input values X\n",
    "#             np.array: Expected outputs y\n",
    "#         Returns\n",
    "#         -------\n",
    "#         float\n",
    "#             Logistic cost function result\n",
    "#         \"\"\"\n",
    "#         X = args[0]\n",
    "#         y = args[1]\n",
    "#         return LogisticRegression.log_cost_function(w, X, y)"
   ]
  },
  {
   "attachments": {},
   "cell_type": "markdown",
   "metadata": {},
   "source": [
    "## Test"
   ]
  },
  {
   "cell_type": "code",
   "execution_count": 9,
   "metadata": {},
   "outputs": [],
   "source": [
    "df = pd.read_csv('../data/1.raw/customerClassification.csv')#, parse_dates=['DateTime'],index_col=['DateTime'])\n",
    "df.columns\n",
    "X_cols = ['Gender', 'Ever_Married', 'Age', 'Graduated', 'Profession',\n",
    "       'Work_Experience', 'Spending_Score', 'Family_Size',\n",
    "       'Segmentation']\n",
    "X_cat_cols = ['Gender', 'Ever_Married', 'Graduated', 'Profession',\n",
    "       'Spending_Score', 'Segmentation']\n",
    "y_col = 'Var_1'\n",
    "\n",
    "X = df[X_cols]\n",
    "X = X.fillna(0)\n",
    "\n",
    "for cat in X_cat_cols:\n",
    "    X[cat] = X[cat].astype('category').cat.codes\n",
    "\n",
    "for c in X.columns:\n",
    "    X[c] = utl.min_max_scaling(X[c])[0]\n",
    "\n",
    "\n",
    "y = df[y_col].fillna(0).astype('category').cat.codes\n"
   ]
  },
  {
   "cell_type": "code",
   "execution_count": 18,
   "metadata": {},
   "outputs": [
    {
     "data": {
      "text/plain": [
       "(array([  76,  133,  422,    0,  822, 1089,    0,   85, 5238,  203]),\n",
       " array([   0,    1,    1,    2,    3,    4,    4,    5,    6,    6,    7]),\n",
       " <BarContainer object of 10 artists>)"
      ]
     },
     "execution_count": 18,
     "metadata": {},
     "output_type": "execute_result"
    },
    {
     "data": {
      "image/png": "[encoded data removed]",
      "text/plain": [
       "<Figure size 640x480 with 1 Axes>"
      ]
     },
     "metadata": {},
     "output_type": "display_data"
    }
   ],
   "source": [
    "plt.hist(y)"
   ]
  },
  {
   "cell_type": "code",
   "execution_count": 10,
   "metadata": {},
   "outputs": [
    {
     "name": "stdout",
     "output_type": "stream",
     "text": [
      "             0         1         2         3         4         5         6  \\\n",
      "0     0.007455  0.023504  0.073360  0.139425  0.216374  0.012825  0.475590   \n",
      "1     0.008022  0.022724  0.063674  0.131283  0.153056  0.015512  0.559859   \n",
      "2     0.014263  0.014836  0.019408  0.069187  0.052840  0.005231  0.815867   \n",
      "3     0.006882  0.013833  0.025662  0.075907  0.055693  0.004169  0.811408   \n",
      "4     0.004236  0.023763  0.088309  0.102610  0.205378  0.024162  0.494449   \n",
      "...        ...       ...       ...       ...       ...       ...       ...   \n",
      "8063  0.004405  0.017738  0.110331  0.097576  0.359212  0.014839  0.382423   \n",
      "8064  0.007121  0.014270  0.058246  0.098287  0.178705  0.009616  0.572363   \n",
      "8065  0.013147  0.025751  0.059368  0.122480  0.054810  0.010700  0.713290   \n",
      "8066  0.005643  0.024838  0.113858  0.134389  0.125577  0.023005  0.532876   \n",
      "8067  0.005945  0.020212  0.059403  0.123071  0.115180  0.008374  0.636436   \n",
      "\n",
      "             7  res  \n",
      "0     0.030103    6  \n",
      "1     0.033321    6  \n",
      "2     0.015589    6  \n",
      "3     0.009754    6  \n",
      "4     0.043007    6  \n",
      "...        ...  ...  \n",
      "8063  0.061262    6  \n",
      "8064  0.023671    6  \n",
      "8065  0.020943    6  \n",
      "8066  0.034411    6  \n",
      "8067  0.024381    6  \n",
      "\n",
      "[8068 rows x 9 columns]\n"
     ]
    }
   ],
   "source": [
    "lrm = LogisticRegression()\n",
    "lrm.fit(X, y)\n",
    "y_p = lrm.predict(X)"
   ]
  },
  {
   "cell_type": "code",
   "execution_count": 11,
   "metadata": {},
   "outputs": [
    {
     "data": {
      "text/plain": [
       "0       6\n",
       "1       6\n",
       "2       6\n",
       "3       6\n",
       "4       6\n",
       "       ..\n",
       "8063    6\n",
       "8064    6\n",
       "8065    6\n",
       "8066    6\n",
       "8067    6\n",
       "Name: res, Length: 8068, dtype: int64"
      ]
     },
     "execution_count": 11,
     "metadata": {},
     "output_type": "execute_result"
    }
   ],
   "source": [
    "y_p"
   ]
  },
  {
   "cell_type": "code",
   "execution_count": 12,
   "metadata": {},
   "outputs": [
    {
     "name": "stderr",
     "output_type": "stream",
     "text": [
      "e:\\JupyterNotebooks\\2023\\ML Models\\MLModels\\notebooks\\../scripts\\utils.py:126: RuntimeWarning: invalid value encountered in scalar divide\n",
      "  return cm[i][i]/cm[:,i].sum()\n"
     ]
    }
   ],
   "source": [
    "cm = utl.confusion_matrix(y, y_p)\n",
    "acc = utl.accuracy_classification(cm)\n",
    "pres = utl.presicion_classification(cm)\n",
    "rec = utl.recall_classification(cm)\n",
    "f1 = utl.fbeta_classification(cm)"
   ]
  },
  {
   "cell_type": "code",
   "execution_count": 13,
   "metadata": {},
   "outputs": [
    {
     "data": {
      "text/plain": [
       "array([[   0,    0,    0,    0,    1,    0,   75,    0],\n",
       "       [   0,    0,    0,    0,    1,    0,  132,    0],\n",
       "       [   0,    0,    0,    0,   15,    0,  407,    0],\n",
       "       [   0,    0,    0,    0,   20,    0,  802,    0],\n",
       "       [   0,    0,    0,    0,   54,    0, 1035,    0],\n",
       "       [   0,    0,    0,    0,    5,    0,   80,    0],\n",
       "       [   0,    0,    0,    0,   41,    0, 5197,    0],\n",
       "       [   0,    0,    0,    0,    5,    0,  198,    0]])"
      ]
     },
     "execution_count": 13,
     "metadata": {},
     "output_type": "execute_result"
    }
   ],
   "source": [
    "np.set_printoptions(formatter={'float_kind':'{:4.0f}'.format})\n",
    "cm"
   ]
  },
  {
   "cell_type": "code",
   "execution_count": 14,
   "metadata": {},
   "outputs": [
    {
     "data": {
      "text/plain": [
       "(0.6508428358948934, 0.0, nan, nan)"
      ]
     },
     "execution_count": 14,
     "metadata": {},
     "output_type": "execute_result"
    }
   ],
   "source": [
    "acc, pres, rec, f1"
   ]
  },
  {
   "attachments": {},
   "cell_type": "markdown",
   "metadata": {},
   "source": [
    "## Comparison with scikit learn"
   ]
  },
  {
   "cell_type": "code",
   "execution_count": 19,
   "metadata": {},
   "outputs": [],
   "source": [
    "from sklearn.linear_model import LogisticRegression"
   ]
  },
  {
   "cell_type": "code",
   "execution_count": 20,
   "metadata": {},
   "outputs": [
    {
     "name": "stderr",
     "output_type": "stream",
     "text": [
      "c:\\Users\\an2fe\\anaconda3\\envs\\mlmodels\\lib\\site-packages\\sklearn\\linear_model\\_logistic.py:458: ConvergenceWarning: lbfgs failed to converge (status=1):\n",
      "STOP: TOTAL NO. of ITERATIONS REACHED LIMIT.\n",
      "\n",
      "Increase the number of iterations (max_iter) or scale the data as shown in:\n",
      "    https://scikit-learn.org/stable/modules/preprocessing.html\n",
      "Please also refer to the documentation for alternative solver options:\n",
      "    https://scikit-learn.org/stable/modules/linear_model.html#logistic-regression\n",
      "  n_iter_i = _check_optimize_result(\n"
     ]
    }
   ],
   "source": [
    "clf = LogisticRegression(random_state=0).fit(X,y)\n",
    "y_pred_skl_np = clf.predict(X)\n",
    "y_pred_skl = pd.Series(y_pred_skl_np)"
   ]
  },
  {
   "cell_type": "code",
   "execution_count": 22,
   "metadata": {},
   "outputs": [
    {
     "name": "stderr",
     "output_type": "stream",
     "text": [
      "e:\\JupyterNotebooks\\2023\\ML Models\\MLModels\\notebooks\\../scripts\\utils.py:126: RuntimeWarning: invalid value encountered in scalar divide\n",
      "  return cm[i][i]/cm[:,i].sum()\n"
     ]
    },
    {
     "data": {
      "text/plain": [
       "(0.6512146752602875, 0.0, nan, nan)"
      ]
     },
     "execution_count": 22,
     "metadata": {},
     "output_type": "execute_result"
    }
   ],
   "source": [
    "cm_skl = utl.confusion_matrix(y, y_pred_skl)\n",
    "acc_skl = utl.accuracy_classification(cm_skl)\n",
    "pres_skl = utl.presicion_classification(cm_skl)\n",
    "rec_skl = utl.recall_classification(cm_skl)\n",
    "f1_skl = utl.fbeta_classification(cm_skl)\n",
    "\n",
    "acc_skl, pres_skl, rec_skl, f1_skl"
   ]
  },
  {
   "cell_type": "code",
   "execution_count": 23,
   "metadata": {},
   "outputs": [
    {
     "data": {
      "text/plain": [
       "array([[   0,    0,    0,    0,    2,    0,   74,    0],\n",
       "       [   0,    0,    0,    0,    1,    0,  132,    0],\n",
       "       [   0,    0,    0,    0,   16,    0,  406,    0],\n",
       "       [   0,    0,    0,    0,   20,    0,  802,    0],\n",
       "       [   0,    0,    0,    0,   55,    0, 1034,    0],\n",
       "       [   0,    0,    0,    0,    4,    0,   81,    0],\n",
       "       [   0,    0,    0,    0,   39,    0, 5199,    0],\n",
       "       [   0,    0,    0,    0,    5,    0,  198,    0]])"
      ]
     },
     "execution_count": 23,
     "metadata": {},
     "output_type": "execute_result"
    }
   ],
   "source": [
    "cm_skl"
   ]
  },
  {
   "cell_type": "code",
   "execution_count": null,
   "metadata": {},
   "outputs": [],
   "source": []
  }
 ],
 "metadata": {
  "kernelspec": {
   "display_name": "mlmodels",
   "language": "python",
   "name": "python3"
  },
  "language_info": {
   "codemirror_mode": {
    "name": "ipython",
    "version": 3
   },
   "file_extension": ".py",
   "mimetype": "text/x-python",
   "name": "python",
   "nbconvert_exporter": "python",
   "pygments_lexer": "ipython3",
   "version": "3.10.9"
  },
  "orig_nbformat": 4
 },
 "nbformat": 4,
 "nbformat_minor": 2
}
