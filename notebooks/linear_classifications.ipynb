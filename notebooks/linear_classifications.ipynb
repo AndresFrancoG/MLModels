{
 "cells": [
  {
   "cell_type": "code",
   "execution_count": 4,
   "metadata": {},
   "outputs": [],
   "source": [
    "import pandas as pd\n",
    "import numpy as np\n",
    "from typing import Tuple\n",
    "import matplotlib.pyplot as plt\n",
    "\n",
    "from scipy.optimize import minimize\n",
    "\n",
    "import sys\n",
    "sys.path.insert(0, '../scripts/')\n",
    "import utils as utl"
   ]
  },
  {
   "cell_type": "code",
   "execution_count": 18,
   "metadata": {},
   "outputs": [
    {
     "name": "stderr",
     "output_type": "stream",
     "text": [
      "C:\\Users\\an2fe\\AppData\\Local\\Temp\\ipykernel_13964\\3294099598.py:8: SettingWithCopyWarning: \n",
      "A value is trying to be set on a copy of a slice from a DataFrame.\n",
      "Try using .loc[row_indexer,col_indexer] = value instead\n",
      "\n",
      "See the caveats in the documentation: https://pandas.pydata.org/pandas-docs/stable/user_guide/indexing.html#returning-a-view-versus-a-copy\n",
      "  X[c] = utl.min_max_scaling(X[c])[0]\n"
     ]
    }
   ],
   "source": [
    "df = pd.read_csv('../data/1.raw/Stars.csv')#, parse_dates=['DateTime'],index_col=['DateTime'])\n",
    "\n",
    "X_cols = ['Temperature', 'L', 'R', 'A_M']\n",
    "y_col = 'Type'\n",
    "\n",
    "X = df[X_cols]\n",
    "for c in X.columns:\n",
    "    X[c] = utl.min_max_scaling(X[c])[0]\n",
    "\n",
    "y = df[y_col]"
   ]
  },
  {
   "cell_type": "code",
   "execution_count": 19,
   "metadata": {},
   "outputs": [],
   "source": [
    "y_res = pd.DataFrame()\n",
    "for cat in y.unique():\n",
    "    y_np = y.copy().to_numpy()\n",
    "    y_np[y_np!=cat]=-1\n",
    "    y_np[y_np==cat]=1\n",
    "    y_np[y_np==-1]=0\n",
    "    y_res[cat] = y_np"
   ]
  },
  {
   "cell_type": "code",
   "execution_count": 38,
   "metadata": {},
   "outputs": [
    {
     "data": {
      "text/plain": [
       "array([0.48097969, 0.46852552, 0.49193453, 0.46609313, 0.47744671,\n",
       "       0.51725823])"
      ]
     },
     "execution_count": 38,
     "metadata": {},
     "output_type": "execute_result"
    }
   ],
   "source": [
    "X_mod = X.copy()\n",
    "ones_aux = np.ones(X.shape[0])\n",
    "X_mod['bias_col'] = ones_aux\n",
    "cols = X_mod.columns\n",
    "cols_reordered = [cols[i-1] for i,x in enumerate(cols)]\n",
    "X_mod = X_mod[cols_reordered]\n",
    "X_np = X_mod.to_numpy()\n",
    "m = len(X_mod)\n",
    "\n",
    "\n",
    "\n",
    "# Inicializes data\n",
    "J = np.ones(len(y_res.columns))\n",
    "w_df = pd.DataFrame()\n",
    "for i,val in enumerate(y_res.columns):\n",
    "    w_df[val] = 0.5*np.ones(X.shape[1]+1)\n",
    "w = w_df.to_numpy()\n",
    "y_c = y_res.to_numpy()\n",
    "\n",
    "# Calculates cost function for each class\n",
    "for i,val in enumerate(y_res.columns):    \n",
    "    y_pred = (w[:,0]*X_np).sum(axis=1)\n",
    "    h = 1/(1 + np.exp(y_pred))\n",
    "    J[i] = - (1/m)*np.sum(y_c[:,i]*np.log(h) + (1-y_c[:,i])*np.log(1-h))\n",
    "J"
   ]
  },
  {
   "cell_type": "code",
   "execution_count": null,
   "metadata": {},
   "outputs": [],
   "source": []
  }
 ],
 "metadata": {
  "kernelspec": {
   "display_name": "mlmodels",
   "language": "python",
   "name": "python3"
  },
  "language_info": {
   "codemirror_mode": {
    "name": "ipython",
    "version": 3
   },
   "file_extension": ".py",
   "mimetype": "text/x-python",
   "name": "python",
   "nbconvert_exporter": "python",
   "pygments_lexer": "ipython3",
   "version": "3.10.9"
  },
  "orig_nbformat": 4
 },
 "nbformat": 4,
 "nbformat_minor": 2
}
