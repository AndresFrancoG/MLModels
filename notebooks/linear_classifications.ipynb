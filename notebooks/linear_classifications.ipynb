{
 "cells": [
  {
   "cell_type": "code",
   "execution_count": 1,
   "metadata": {},
   "outputs": [],
   "source": [
    "import pandas as pd\n",
    "import numpy as np\n",
    "from typing import Tuple\n",
    "import matplotlib.pyplot as plt\n",
    "\n",
    "from scipy.optimize import minimize\n",
    "\n",
    "import sys\n",
    "sys.path.insert(0, '../scripts/')\n",
    "import utils as utl"
   ]
  },
  {
   "attachments": {},
   "cell_type": "markdown",
   "metadata": {},
   "source": [
    "## Predict"
   ]
  },
  {
   "cell_type": "code",
   "execution_count": 2,
   "metadata": {},
   "outputs": [],
   "source": [
    "def log_reg_predict(w, X):\n",
    "    return (w*X).sum(axis=1)"
   ]
  },
  {
   "attachments": {},
   "cell_type": "markdown",
   "metadata": {},
   "source": [
    "## Metrics"
   ]
  },
  {
   "cell_type": "code",
   "execution_count": 3,
   "metadata": {},
   "outputs": [],
   "source": [
    "def confusion_matrix(y: pd.Series, y_p: pd.Series) -> np.array:\n",
    "    \"\"\"Calculates the confusion matrix of a classification model\n",
    "\n",
    "    Parameters\n",
    "    ----------\n",
    "    y : pd.Series\n",
    "        True values\n",
    "    y_p : pd.Series\n",
    "        Predicted values\n",
    "\n",
    "    Returns\n",
    "    -------\n",
    "    np.array\n",
    "        Confusion Matrix\n",
    "    \"\"\"\n",
    "    cats = y.unique()\n",
    "    n= len(cats)\n",
    "    conf_matr = np.zeros((n,n))\n",
    "\n",
    "    for i in range(len(y)):\n",
    "        k = np.where(cats == y.iloc[i])[0][0]\n",
    "        l = np.where(cats == y_p.iloc[i])[0][0]\n",
    "        conf_matr[k][l] = conf_matr[k][l] + 1\n",
    "    return conf_matr"
   ]
  },
  {
   "cell_type": "code",
   "execution_count": 4,
   "metadata": {},
   "outputs": [],
   "source": [
    "def accuracy_classification(cm: np.array) -> float:\n",
    "    \"\"\"Correct predictions vs total number of data points\n",
    "\n",
    "    Parameters\n",
    "    ----------\n",
    "    cm : np.array\n",
    "        Confusion Matrix\n",
    "\n",
    "    Returns\n",
    "    -------\n",
    "    float\n",
    "        Accuracy\n",
    "    \"\"\"\n",
    "    return cm.trace()/cm.sum()\n",
    "\n",
    "def presicion_classification(cm: np.array, i: int = 0) -> float:    \n",
    "    \"\"\"True Positives of a given category vs total number of data points\n",
    "\n",
    "    Parameters\n",
    "    ----------\n",
    "    cm : np.array\n",
    "        Multiclass confusion matrix\n",
    "    i : int, optional\n",
    "        Index of category of interests, by default 0\n",
    "\n",
    "    Returns\n",
    "    -------\n",
    "    float\n",
    "        _description_\n",
    "    \"\"\"\n",
    "    return cm[i][i]/cm[i].sum()\n",
    "\n",
    "def recall_classification(cm: np.array, i: int = 0) -> float:    \n",
    "    \"\"\"True Positives of a given category vs total number of data points\n",
    "\n",
    "    Parameters\n",
    "    ----------\n",
    "    cm : np.array\n",
    "        Multiclass confusion matrix\n",
    "    i : int, optional\n",
    "        Index of category of interests, by default 0\n",
    "\n",
    "    Returns\n",
    "    -------\n",
    "    float\n",
    "        _description_\n",
    "    \"\"\"\n",
    "    return cm[i][i]/cm[:,i].sum()"
   ]
  },
  {
   "cell_type": "code",
   "execution_count": 5,
   "metadata": {},
   "outputs": [],
   "source": [
    "def fbeta_classification(cm: np.array, i: int = 0, beta: float = 1.0) -> float:\n",
    "    p = presicion_classification(cm, i=i)\n",
    "    r = recall_classification(cm, i=i)\n",
    "    fb = 0\n",
    "    den = ((beta**2)*p+r)\n",
    "    if den !=0:\n",
    "        fb = (1+beta**2)*p*r/((beta**2)*p+r)\n",
    "    return fb"
   ]
  },
  {
   "attachments": {},
   "cell_type": "markdown",
   "metadata": {},
   "source": [
    "# Cost functions"
   ]
  },
  {
   "cell_type": "code",
   "execution_count": 6,
   "metadata": {},
   "outputs": [],
   "source": [
    "def log_cost_function(w: np.array, X: np.array, y: np.array) -> float:\n",
    "    \"\"\"Calculates the log cost function for binary logistic regression\n",
    "\n",
    "    Parameters\n",
    "    ----------\n",
    "    w : np.array\n",
    "        Weights\n",
    "    X : np.array\n",
    "        Input values\n",
    "    y : np.array\n",
    "        Expected outputs\n",
    "\n",
    "    Returns\n",
    "    -------\n",
    "    float\n",
    "        Logistic cost function result\n",
    "    \"\"\"\n",
    "    y_pred = log_reg_predict(w, X)\n",
    "    y_pred = utl.min_max_scaling(pd.Series(y_pred))[0]\n",
    "    den = 1 + np.exp(y_pred)\n",
    "    den[den == 0] = 1e-4\n",
    "    h = 1/den\n",
    "    return - (1/len(X))*np.sum(y*np.log(h) + (1-y)*np.log(1-h))"
   ]
  },
  {
   "cell_type": "code",
   "execution_count": 7,
   "metadata": {},
   "outputs": [],
   "source": [
    "def lcf_for_min(w: np.array, *args: Tuple[np.array, np.array]) -> float:\n",
    "    \"\"\"Calculates the log cost function for binary logistic regression in format necessary for minimization algorithm\n",
    "\n",
    "    Parameters\n",
    "    ----------\n",
    "    w : np.array\n",
    "        _description_\n",
    "\n",
    "    **args: Tuple[np.array, np.array]\n",
    "        np.array: Input values X\n",
    "        np.array: Expected outputs y\n",
    "    Returns\n",
    "    -------\n",
    "    float\n",
    "        Logistic cost function result\n",
    "    \"\"\"\n",
    "    X = args[0]\n",
    "    y = args[1]\n",
    "    return log_cost_function(w, X, y)"
   ]
  },
  {
   "attachments": {},
   "cell_type": "markdown",
   "metadata": {},
   "source": [
    "## Test"
   ]
  },
  {
   "cell_type": "code",
   "execution_count": 8,
   "metadata": {},
   "outputs": [],
   "source": [
    "df = pd.read_csv('../data/1.raw/customerClassification.csv')#, parse_dates=['DateTime'],index_col=['DateTime'])\n",
    "df.columns\n",
    "X_cols = ['Gender', 'Ever_Married', 'Age', 'Graduated', 'Profession',\n",
    "       'Work_Experience', 'Spending_Score', 'Family_Size',\n",
    "       'Segmentation']\n",
    "X_cat_cols = ['Gender', 'Ever_Married', 'Graduated', 'Profession',\n",
    "       'Spending_Score', 'Segmentation']\n",
    "y_col = 'Var_1'\n",
    "\n",
    "X = df[X_cols]\n",
    "X = X.fillna(0)\n",
    "\n",
    "for cat in X_cat_cols:\n",
    "    X[cat] = X[cat].astype('category').cat.codes\n",
    "\n",
    "for c in X.columns:\n",
    "    X[c] = utl.min_max_scaling(X[c])[0]\n",
    "\n",
    "\n",
    "y = df[y_col].fillna(0).astype('category').cat.codes\n"
   ]
  },
  {
   "cell_type": "code",
   "execution_count": 9,
   "metadata": {},
   "outputs": [],
   "source": [
    "y_res = pd.DataFrame()\n",
    "for cat in y.unique():\n",
    "    y_np = y.copy().to_numpy()\n",
    "    y_np[y_np!=cat]=-1\n",
    "    y_np[y_np==cat]=1\n",
    "    y_np[y_np==-1]=0\n",
    "    y_res[cat] = y_np"
   ]
  },
  {
   "cell_type": "code",
   "execution_count": 10,
   "metadata": {},
   "outputs": [],
   "source": [
    "X_mod = X.copy()\n",
    "ones_aux = np.ones(X.shape[0])\n",
    "X_mod['bias_col'] = ones_aux\n",
    "cols = X_mod.columns\n",
    "cols_reordered = [cols[i-1] for i,x in enumerate(cols)]\n",
    "X_mod = X_mod[cols_reordered]\n",
    "X_np = X_mod.to_numpy()\n",
    "m = len(X_mod)\n",
    "\n",
    "\n",
    "# Inicializes data\n",
    "J = np.ones(len(y_res.columns))\n",
    "w_df = pd.DataFrame()\n",
    "for i,val in enumerate(y_res.columns):\n",
    "    w_df[val] = 0.1*np.ones(X.shape[1]+1)\n",
    "w = w_df.to_numpy()\n",
    "y_c = y_res.to_numpy()\n",
    "\n",
    "# Minimizes the cost function\n",
    "for i,val in enumerate(y_res.columns):\n",
    "    res = minimize(lcf_for_min, w[:,i], args=(X_np, y_c[:,i]))\n",
    "    w[:,i] = res.x"
   ]
  },
  {
   "cell_type": "code",
   "execution_count": 11,
   "metadata": {},
   "outputs": [],
   "source": [
    "# Predictions\n",
    "y_pred = pd.DataFrame()\n",
    "for i,val in enumerate(y_res.columns):\n",
    "    y_pred[val] = log_reg_predict(w[:,i], X_np)\n",
    "    y_pred[val] = utl.min_max_scaling(y_pred[val])[0]\n",
    "\n",
    "orig_cols = y_pred.columns\n",
    "y_pred['res'] = y_pred.apply(lambda x: np.argmax(x[orig_cols].to_numpy()) ,axis =1)\n",
    "y_p = y_pred['res']"
   ]
  },
  {
   "cell_type": "code",
   "execution_count": 12,
   "metadata": {},
   "outputs": [
    {
     "data": {
      "image/png": "[encoded data removed]",
      "text/plain": [
       "<Figure size 640x480 with 1 Axes>"
      ]
     },
     "metadata": {},
     "output_type": "display_data"
    }
   ],
   "source": [
    "plt.plot(y)\n",
    "plt.plot(y_pred['res'])\n",
    "# for c in y_pred.columns:\n",
    "#     plt.plot(y_pred[c])\n",
    "plt.show()"
   ]
  },
  {
   "cell_type": "code",
   "execution_count": 13,
   "metadata": {},
   "outputs": [],
   "source": [
    "cm = confusion_matrix(y, y_p)\n",
    "acc = accuracy_classification(cm)\n",
    "pres = presicion_classification(cm)\n",
    "rec = recall_classification(cm)\n",
    "f1 = fbeta_classification(cm)"
   ]
  },
  {
   "cell_type": "code",
   "execution_count": 14,
   "metadata": {},
   "outputs": [
    {
     "data": {
      "text/plain": [
       "(0.0835399107585523,\n",
       " 0.16161616161616163,\n",
       " 0.09887640449438202,\n",
       " 0.1226908330428721)"
      ]
     },
     "execution_count": 14,
     "metadata": {},
     "output_type": "execute_result"
    }
   ],
   "source": [
    "acc, pres, rec, f1"
   ]
  },
  {
   "attachments": {},
   "cell_type": "markdown",
   "metadata": {},
   "source": [
    "## Comparison with scikit learn"
   ]
  },
  {
   "cell_type": "code",
   "execution_count": 15,
   "metadata": {},
   "outputs": [],
   "source": [
    "from sklearn.linear_model import LogisticRegression"
   ]
  },
  {
   "cell_type": "code",
   "execution_count": 16,
   "metadata": {},
   "outputs": [
    {
     "name": "stderr",
     "output_type": "stream",
     "text": [
      "c:\\Users\\an2fe\\anaconda3\\envs\\mlmodels\\lib\\site-packages\\sklearn\\linear_model\\_logistic.py:458: ConvergenceWarning: lbfgs failed to converge (status=1):\n",
      "STOP: TOTAL NO. of ITERATIONS REACHED LIMIT.\n",
      "\n",
      "Increase the number of iterations (max_iter) or scale the data as shown in:\n",
      "    https://scikit-learn.org/stable/modules/preprocessing.html\n",
      "Please also refer to the documentation for alternative solver options:\n",
      "    https://scikit-learn.org/stable/modules/linear_model.html#logistic-regression\n",
      "  n_iter_i = _check_optimize_result(\n"
     ]
    }
   ],
   "source": [
    "clf = LogisticRegression(random_state=0).fit(X,y)\n",
    "y_pred_skl_np = clf.predict(X)\n",
    "y_pred_skl = pd.Series(y_pred_skl_np)"
   ]
  },
  {
   "cell_type": "code",
   "execution_count": 17,
   "metadata": {},
   "outputs": [
    {
     "data": {
      "text/plain": [
       "(0.6512146752602875,\n",
       " 0.050505050505050504,\n",
       " 0.3873239436619718,\n",
       " 0.0893582453290008)"
      ]
     },
     "execution_count": 17,
     "metadata": {},
     "output_type": "execute_result"
    }
   ],
   "source": [
    "cm_skl = confusion_matrix(y, y_pred_skl)\n",
    "acc_skl = accuracy_classification(cm_skl)\n",
    "pres_skl = presicion_classification(cm_skl)\n",
    "rec_skl = recall_classification(cm_skl)\n",
    "f1_skl = fbeta_classification(cm_skl)\n",
    "\n",
    "acc_skl, pres_skl, rec_skl, f1_skl"
   ]
  },
  {
   "cell_type": "code",
   "execution_count": null,
   "metadata": {},
   "outputs": [],
   "source": []
  }
 ],
 "metadata": {
  "kernelspec": {
   "display_name": "mlmodels",
   "language": "python",
   "name": "python3"
  },
  "language_info": {
   "codemirror_mode": {
    "name": "ipython",
    "version": 3
   },
   "file_extension": ".py",
   "mimetype": "text/x-python",
   "name": "python",
   "nbconvert_exporter": "python",
   "pygments_lexer": "ipython3",
   "version": "3.10.9"
  },
  "orig_nbformat": 4
 },
 "nbformat": 4,
 "nbformat_minor": 2
}
