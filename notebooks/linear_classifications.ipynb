{
 "cells": [
  {
   "cell_type": "code",
   "execution_count": 4,
   "metadata": {},
   "outputs": [],
   "source": [
    "import pandas as pd\n",
    "import numpy as np\n",
    "from typing import Tuple\n",
    "import matplotlib.pyplot as plt\n",
    "\n",
    "from scipy.optimize import minimize\n",
    "\n",
    "import sys\n",
    "sys.path.insert(0, '../scripts/')\n",
    "import utils as utl"
   ]
  },
  {
   "attachments": {},
   "cell_type": "markdown",
   "metadata": {},
   "source": [
    "## Predict"
   ]
  },
  {
   "cell_type": "code",
   "execution_count": 53,
   "metadata": {},
   "outputs": [],
   "source": [
    "def log_reg_predict(w, X):\n",
    "    return (w*X).sum(axis=1)"
   ]
  },
  {
   "attachments": {},
   "cell_type": "markdown",
   "metadata": {},
   "source": [
    "# Cost functions"
   ]
  },
  {
   "cell_type": "code",
   "execution_count": 87,
   "metadata": {},
   "outputs": [],
   "source": [
    "def log_cost_function(w: np.array, X: np.array, y: np.array) -> float:\n",
    "    \"\"\"Calculates the log cost function for binary logistic regression\n",
    "\n",
    "    Parameters\n",
    "    ----------\n",
    "    w : np.array\n",
    "        Weights\n",
    "    X : np.array\n",
    "        Input values\n",
    "    y : np.array\n",
    "        Expected outputs\n",
    "\n",
    "    Returns\n",
    "    -------\n",
    "    float\n",
    "        Logistic cost function result\n",
    "    \"\"\"\n",
    "    y_pred = log_reg_predict(w, X)\n",
    "    den = 1 + np.exp(y_pred)\n",
    "    den[den == 0] = 1\n",
    "    h = 1/den\n",
    "    h[h==0]=1e-4\n",
    "    h[h==1]=1-1e-4\n",
    "    return - (1/len(X))*np.sum(y*np.log(h) + (1-y)*np.log(1-h))"
   ]
  },
  {
   "cell_type": "code",
   "execution_count": 88,
   "metadata": {},
   "outputs": [],
   "source": [
    "def lcf_for_min(w: np.array, *args: Tuple[np.array, np.array]) -> float:\n",
    "    \"\"\"Calculates the log cost function for binary logistic regression in format necessary for minimization algorithm\n",
    "\n",
    "    Parameters\n",
    "    ----------\n",
    "    w : np.array\n",
    "        _description_\n",
    "\n",
    "    **args: Tuple[np.array, np.array]\n",
    "        np.array: Input values X\n",
    "        np.array: Expected outputs y\n",
    "    Returns\n",
    "    -------\n",
    "    float\n",
    "        Logistic cost function result\n",
    "    \"\"\"\n",
    "    X = args[0]\n",
    "    y = args[1]\n",
    "    return log_cost_function(w, X, y)"
   ]
  },
  {
   "cell_type": "code",
   "execution_count": 89,
   "metadata": {},
   "outputs": [
    {
     "name": "stderr",
     "output_type": "stream",
     "text": [
      "C:\\Users\\an2fe\\AppData\\Local\\Temp\\ipykernel_13964\\2331883109.py:8: SettingWithCopyWarning: \n",
      "A value is trying to be set on a copy of a slice from a DataFrame.\n",
      "Try using .loc[row_indexer,col_indexer] = value instead\n",
      "\n",
      "See the caveats in the documentation: https://pandas.pydata.org/pandas-docs/stable/user_guide/indexing.html#returning-a-view-versus-a-copy\n",
      "  X[c] = utl.min_max_scaling(X[c])[0]\n"
     ]
    }
   ],
   "source": [
    "df = pd.read_csv('../data/1.raw/Stars.csv')#, parse_dates=['DateTime'],index_col=['DateTime'])\n",
    "\n",
    "X_cols = ['Temperature', 'L', 'R', 'A_M']\n",
    "y_col = 'Type'\n",
    "\n",
    "X = df[X_cols]\n",
    "for c in X.columns:\n",
    "    X[c] = utl.min_max_scaling(X[c])[0]\n",
    "\n",
    "y = df[y_col]"
   ]
  },
  {
   "cell_type": "code",
   "execution_count": 90,
   "metadata": {},
   "outputs": [],
   "source": [
    "y_res = pd.DataFrame()\n",
    "for cat in y.unique():\n",
    "    y_np = y.copy().to_numpy()\n",
    "    y_np[y_np!=cat]=-1\n",
    "    y_np[y_np==cat]=1\n",
    "    y_np[y_np==-1]=0\n",
    "    y_res[cat] = y_np"
   ]
  },
  {
   "cell_type": "code",
   "execution_count": 91,
   "metadata": {},
   "outputs": [
    {
     "name": "stderr",
     "output_type": "stream",
     "text": [
      "C:\\Users\\an2fe\\AppData\\Local\\Temp\\ipykernel_13964\\2573357931.py:19: RuntimeWarning: overflow encountered in exp\n",
      "  den = 1 + np.exp(y_pred)\n",
      "C:\\Users\\an2fe\\AppData\\Local\\Temp\\ipykernel_13964\\2573357931.py:19: RuntimeWarning: overflow encountered in exp\n",
      "  den = 1 + np.exp(y_pred)\n"
     ]
    },
    {
     "data": {
      "text/plain": [
       "array([[ 2.37591275e+02, -2.99084984e+01,  5.15782472e+02,\n",
       "        -4.86202245e+02, -1.60447303e+02,  1.88914884e+02],\n",
       "       [ 2.26304938e+02,  1.68255386e+02, -1.02449365e+03,\n",
       "        -1.08775258e+02,  1.44934640e+02, -1.89068474e-01],\n",
       "       [ 1.29524114e+02,  1.63036503e+02,  2.08837576e+04,\n",
       "         5.15691462e+02, -3.51311699e+02, -2.44826511e+02],\n",
       "       [ 1.21251810e+02,  7.18043895e+01,  4.66760329e+03,\n",
       "         5.01608175e+04,  9.41367866e+02, -6.39939701e+02],\n",
       "       [-2.85419459e+02,  2.96278904e+01, -4.69569910e+02,\n",
       "         8.00126303e+02,  5.60291483e+02,  5.71304418e+02]])"
      ]
     },
     "execution_count": 91,
     "metadata": {},
     "output_type": "execute_result"
    }
   ],
   "source": [
    "X_mod = X.copy()\n",
    "ones_aux = np.ones(X.shape[0])\n",
    "X_mod['bias_col'] = ones_aux\n",
    "cols = X_mod.columns\n",
    "cols_reordered = [cols[i-1] for i,x in enumerate(cols)]\n",
    "X_mod = X_mod[cols_reordered]\n",
    "X_np = X_mod.to_numpy()\n",
    "m = len(X_mod)\n",
    "\n",
    "\n",
    "# Inicializes data\n",
    "J = np.ones(len(y_res.columns))\n",
    "w_df = pd.DataFrame()\n",
    "for i,val in enumerate(y_res.columns):\n",
    "    w_df[val] = 0.5*np.ones(X.shape[1]+1)\n",
    "w = w_df.to_numpy()\n",
    "y_c = y_res.to_numpy()\n",
    "\n",
    "# Minimizes the cost function\n",
    "for i,val in enumerate(y_res.columns):\n",
    "    res = minimize(lcf_for_min, w[:,i], args=(X_np, y_c[:,i]))\n",
    "    w[:,i] = res.x\n",
    "\n",
    "w"
   ]
  },
  {
   "cell_type": "code",
   "execution_count": 97,
   "metadata": {},
   "outputs": [],
   "source": [
    "# Predictions\n",
    "y_pred = pd.DataFrame()\n",
    "for i,val in enumerate(y_res.columns):\n",
    "    y_pred[val] = log_reg_predict(w[:,i], X_np)\n",
    "\n",
    "for c in y_pred.columns:\n",
    "    y_pred[c] = utl.min_max_scaling(y_pred[c])[0]\n",
    "\n",
    "orig_cols = y_pred.columns\n",
    "y_pred['res'] = y_pred.apply(lambda x: np.argmax(x[orig_cols].to_numpy()) ,axis =1)"
   ]
  },
  {
   "cell_type": "code",
   "execution_count": 100,
   "metadata": {},
   "outputs": [
    {
     "data": {
      "text/plain": [
       "[<matplotlib.lines.Line2D at 0x1748a94e440>]"
      ]
     },
     "execution_count": 100,
     "metadata": {},
     "output_type": "execute_result"
    },
    {
     "data": {
      "image/png": "[encoded data removed]",
      "text/plain": [
       "<Figure size 640x480 with 1 Axes>"
      ]
     },
     "metadata": {},
     "output_type": "display_data"
    }
   ],
   "source": [
    "plt.plot(y_pred['res'])\n",
    "# for c in y_pred.columns:\n",
    "#     plt.plot(y_pred[c])\n",
    "# plt.show()"
   ]
  },
  {
   "cell_type": "code",
   "execution_count": 81,
   "metadata": {},
   "outputs": [
    {
     "name": "stderr",
     "output_type": "stream",
     "text": [
      "C:\\Users\\an2fe\\AppData\\Local\\Temp\\ipykernel_13964\\1899684472.py:1: RuntimeWarning: divide by zero encountered in log\n",
      "  np.log([0,1])\n"
     ]
    },
    {
     "data": {
      "text/plain": [
       "array([-inf,   0.])"
      ]
     },
     "execution_count": 81,
     "metadata": {},
     "output_type": "execute_result"
    }
   ],
   "source": [
    "np.log([0,1])"
   ]
  },
  {
   "cell_type": "code",
   "execution_count": null,
   "metadata": {},
   "outputs": [],
   "source": []
  }
 ],
 "metadata": {
  "kernelspec": {
   "display_name": "mlmodels",
   "language": "python",
   "name": "python3"
  },
  "language_info": {
   "codemirror_mode": {
    "name": "ipython",
    "version": 3
   },
   "file_extension": ".py",
   "mimetype": "text/x-python",
   "name": "python",
   "nbconvert_exporter": "python",
   "pygments_lexer": "ipython3",
   "version": "3.10.9"
  },
  "orig_nbformat": 4
 },
 "nbformat": 4,
 "nbformat_minor": 2
}
